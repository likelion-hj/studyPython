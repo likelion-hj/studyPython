{
 "cells": [
  {
   "cell_type": "markdown",
   "metadata": {},
   "source": [
   ]
  },
  {
   "cell_type": "markdown",
   "metadata": {},
   "source": [
    "## Question 1\n",
    "\n",
    "Write a function that returns a letter grade from a number using the following rules:\n",
    "\n",
    "Score (%) | Grade\n",
    ":--------:|:--:\n",
    ">90       | A\n",
    ">80       | B\n",
    ">70       | C\n",
    ">60       | D\n",
    "<=60      | F\n",
    "\n",
    "\n",
    "The function should take a score and an optional value for the denominator. (The default value of the denominator should be 100.) Your code should give exactly the results below for each of these sample calls:\n",
    "\n",
    "    In  []: grade(95)\n",
    "    Out []: A\n",
    "    \n",
    "    In  []: grade(40.5, denom=50)\n",
    "    Out []: B\n",
    "\n",
    "    In  []: grade(-3)\n",
    "    Out []: Must provide a nonnegative score, not greater than available points.\n",
    "\n",
    "    In  []: grade('Janet')\n",
    "    Out []: Please enter a numeric Grade.\n",
    "\n"
   ]
  },
  {
   "cell_type": "code",
   "execution_count": 173,
   "metadata": {},
   "outputs": [],
   "source": [
    "def grade(num, denom=None):\n",
    "    #set default denominator as 100\n",
    "    denom =100 if denom is None else denom \n",
    "    \n",
    "    #assign letter grade if numeric value\n",
    "    try: \n",
    "        score = num/denom\n",
    "        if score>0.9:   print('A')\n",
    "        elif score>0.8: print('B')\n",
    "        elif score>0.7: print('C')\n",
    "        elif score>0.6: print('D')\n",
    "        elif score>=0:  print('F')\n",
    "        else: print('Must provide a nonnegative score, not greater than available points.')\n",
    "    \n",
    "    #provide msg if non-numeric value\n",
    "    except: \n",
    "        print('Please enter a numeric Grade.')"
   ]
  },
  {
   "cell_type": "markdown",
   "metadata": {},
   "source": [
    "## Question 2\n",
    "\n",
    "Create a virtual deck of cards by storing 52 string values in a list. There are 4 suits (hearts, diamonds, clubs, spades) and 13 cards Ace, 2, 3, ..., 10, J, Q, K. For example, one card might be AS (representing the Ace of Spades) or 10H (10 of Hearts). If you want to be really fancy, note that Python allows us to use the characters  ♥, ♣, ♦, and ♠, so you can represent 10H as 10♥. (This is optional, though.)\n",
    "\n",
    "Hint: You will probably want to build your deck using two `for`-loops."
   ]
  },
  {
   "cell_type": "code",
   "execution_count": 174,
   "metadata": {},
   "outputs": [
    {
     "name": "stdout",
     "output_type": "stream",
     "text": [
      "['A♥', '2♥', '3♥', '4♥', '5♥', '6♥', '7♥', '8♥', '9♥', '10♥', 'J♥', 'Q♥', 'K♥', 'A♣', '2♣', '3♣', '4♣', '5♣', '6♣', '7♣', '8♣', '9♣', '10♣', 'J♣', 'Q♣', 'K♣', 'A♦', '2♦', '3♦', '4♦', '5♦', '6♦', '7♦', '8♦', '9♦', '10♦', 'J♦', 'Q♦', 'K♦', 'A♠', '2♠', '3♠', '4♠', '5♠', '6♠', '7♠', '8♠', '9♠', '10♠', 'J♠', 'Q♠', 'K♠']\n"
     ]
    }
   ],
   "source": [
    "suits = ['♥', '♣', '♦', '♠']\n",
    "cards = ['A','2','3','4','5','6','7','8','9','10','J','Q','K']\n",
    "deck=[c+s for s in suits for c in cards]\n",
    "print(deck)\n"
   ]
  },
  {
   "cell_type": "markdown",
   "metadata": {},
   "source": [
    "Deal one hand by shuffling your cards and taking five cards off the top (ie, the beginning) of the deck. Store these cards in a variable called \"hand\". Be sure to actually remove the cards from the deck!"
   ]
  },
  {
   "cell_type": "code",
   "execution_count": 171,
   "metadata": {},
   "outputs": [
    {
     "name": "stdout",
     "output_type": "stream",
     "text": [
      "['J♣', '9♣', '7♠', '2♠', '4♠']\n",
      "['2♣', '3♠', 'A♣', 'J♥', '5♣', '7♦', '6♠', '10♣', '9♠', '7♥', 'K♥', 'A♥', 'Q♣', '10♠', 'K♦', '9♥', '4♥', 'Q♥', '2♥', '2♦', '5♦', 'Q♠', '8♦', '6♥', 'K♠', '4♦', '3♣', '10♥', '3♥', 'Q♦', '6♣', '4♣', '5♥', '9♦', 'K♣', '6♦', '5♠', 'A♠', 'A♦', '8♥', 'J♠', 'J♦', '7♣', '3♦', '8♠', '10♦', '8♣']\n"
     ]
    }
   ],
   "source": [
    "from random import shuffle\n",
    "shuffle(deck)\n",
    "\n",
    "#take five cards off the top\n",
    "hand = deck[len(deck)-1:len(deck)-6:-1]\n",
    "\n",
    "#remove the cards from the deck\n",
    "del deck[len(deck)-1:len(deck)-6:-1]\n",
    "print(hand)"
   ]
  },
  {
   "cell_type": "markdown",
   "metadata": {},
   "source": [
    "Write a function that simulates dealing two cards to *N* people. It should return a list of tuples. The outer list should contain *N* tuples, and each tuple should contain 2 randomly-selected cards. If *N* isn't an integer or *N* is greater than 10, the function should ask the user for corrected input."
   ]
  },
  {
   "cell_type": "code",
   "execution_count": 172,
   "metadata": {},
   "outputs": [
    {
     "name": "stdout",
     "output_type": "stream",
     "text": [
      "Enter the number of people playing cards: 10\n",
      "Cards for player #1 are ('8♣', '10♦')\n",
      "Cards for player #2 are ('8♠', '3♦')\n",
      "Cards for player #3 are ('7♣', 'J♦')\n",
      "Cards for player #4 are ('J♠', '8♥')\n",
      "Cards for player #5 are ('A♦', 'A♠')\n",
      "Cards for player #6 are ('5♠', '6♦')\n",
      "Cards for player #7 are ('K♣', '9♦')\n",
      "Cards for player #8 are ('5♥', '4♣')\n",
      "Cards for player #9 are ('6♣', 'Q♦')\n",
      "Cards for player #10 are ('3♥', '10♥')\n"
     ]
    }
   ],
   "source": [
    "try:\n",
    "    #get the integer input less than 10\n",
    "    players = int(input(\"Enter the number of people playing cards: \"))\n",
    "    if players>10:\n",
    "        print('Please enter a number between 1 to 10.')\n",
    "    \n",
    "    #deal two cards to each player\n",
    "    else:\n",
    "        for player in range(1,players+1):\n",
    "            playcard = tuple(deck[len(deck)-1:len(deck)-3:-1])\n",
    "            print(f'Cards for player #{player} are {playcard}')\n",
    "            \n",
    "            #remove two cards given from the deck\n",
    "            del deck[len(deck)-1:len(deck)-3:-1]\n",
    "\n",
    "except:\n",
    "    #provide msg if non-numeric value\n",
    "    print('Please enter a number between 1 to 10.')\n"
   ]
  }
 ],
 "metadata": {
  "kernelspec": {
   "display_name": "Python 3",
   "language": "python",
   "name": "python3"
  },
  "language_info": {
   "codemirror_mode": {
    "name": "ipython",
    "version": 3
   },
   "file_extension": ".py",
   "mimetype": "text/x-python",
   "name": "python",
   "nbconvert_exporter": "python",
   "pygments_lexer": "ipython3",
   "version": "3.7.4"
  },
  "toc": {
   "base_numbering": 1,
   "nav_menu": {},
   "number_sections": true,
   "sideBar": true,
   "skip_h1_title": false,
   "title_cell": "Table of Contents",
   "title_sidebar": "Contents",
   "toc_cell": false,
   "toc_position": {},
   "toc_section_display": true,
   "toc_window_display": false
  }
 },
 "nbformat": 4,
 "nbformat_minor": 2
}
