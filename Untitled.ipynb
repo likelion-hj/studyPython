{
 "cells": [
  {
   "cell_type": "code",
   "execution_count": 1,
   "metadata": {},
   "outputs": [
    {
     "data": {
      "text/plain": [
       "'C:\\\\Users\\\\hhale\\\\Downloads'"
      ]
     },
     "execution_count": 1,
     "metadata": {},
     "output_type": "execute_result"
    }
   ],
   "source": [
    "%pwd"
   ]
  },
  {
   "cell_type": "code",
   "execution_count": 17,
   "metadata": {},
   "outputs": [],
   "source": [
    "f=open('citypops.csv')"
   ]
  },
  {
   "cell_type": "code",
   "execution_count": 18,
   "metadata": {},
   "outputs": [
    {
     "name": "stdout",
     "output_type": "stream",
     "text": [
      "0:\"New York, NY\",8398748\n",
      "1:\"Los Angeles, CA\",3990456\n",
      "2:\"Chicago, IL\",2705994\n",
      "3:\"Houston, TX\",2325502\n",
      "4:\"Phoenix, AZ\",1660272\n",
      "5:\"Philadelphia, PA\",1584138\n",
      "6:\"San Antonio, TX\",1532233\n",
      "7:\"San Diego, CA\",1425976\n",
      "8:\"Dallas, TX\",1345047\n",
      "9:\"San Jose, CA\",1030119\n",
      "10:\"Austin, TX\",964254\n",
      "11:\"Jacksonville, FL\",903889\n",
      "12:\"Fort Worth, TX\",895008\n",
      "13:\"Columbus, OH\",892533\n",
      "14:\"San Francisco, CA\",883305\n",
      "15:\"Charlotte, NC\",872498\n",
      "16:\"Indianapolis, IN\",867125\n",
      "17:\"Seattle, WA\",744955\n",
      "18:\"Denver, CO\",716492\n",
      "19:\"Washington, DC\",702455\n",
      "20:\"Boston, MA\",694583\n",
      "21:\"El Paso, TX\",682669\n",
      "22:\"Detroit, MI\",672662\n",
      "23:\"Nashville, TN\",669053\n",
      "24:\"Portland, OR\",653115\n"
     ]
    }
   ],
   "source": [
    "for ln, line in enumerate(f):\n",
    "    print(f'{ln}:{line}', end='')"
   ]
  },
  {
   "cell_type": "code",
   "execution_count": 21,
   "metadata": {},
   "outputs": [
    {
     "data": {
      "text/plain": [
       "'In Congress, July 4, 1776.\\n\\nThe unanimous Declaration of the thirteen united States of America,\\n\\nWhen in the Course of human events, it becomes necess'"
      ]
     },
     "execution_count": 21,
     "metadata": {},
     "output_type": "execute_result"
    }
   ],
   "source": [
    "with open('declaration_of_independence.txt') as dec:\n",
    "    decl = dec.read()\n",
    "    \n",
    "decl[:150]"
   ]
  },
  {
   "cell_type": "code",
   "execution_count": null,
   "metadata": {},
   "outputs": [],
   "source": []
  }
 ],
 "metadata": {
  "kernelspec": {
   "display_name": "Python 3",
   "language": "python",
   "name": "python3"
  },
  "language_info": {
   "codemirror_mode": {
    "name": "ipython",
    "version": 3
   },
   "file_extension": ".py",
   "mimetype": "text/x-python",
   "name": "python",
   "nbconvert_exporter": "python",
   "pygments_lexer": "ipython3",
   "version": "3.7.4"
  }
 },
 "nbformat": 4,
 "nbformat_minor": 2
}
