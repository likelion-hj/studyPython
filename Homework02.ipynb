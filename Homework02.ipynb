{
 "cells": [
  {
   "cell_type": "markdown",
   "metadata": {},
   "source": [
    "# Homework 2"
   ]
  },
  {
   "cell_type": "markdown",
   "metadata": {},
   "source": [
    "## Question 1\n",
    "\n",
    "Write a function that returns the name of a company for a given ticker symbol. You should scrape the data from Yahoo! Finance. [Here's an example page](https://finance.yahoo.com/quote/WMT/profile) using Walmart.\n",
    "\n",
    "Start by making your function modify the URL so it works for other ticker symbols. Then, look at the HTML source to find the pattern that you must search for to extract the company name.\n",
    "\n",
    "I've started the function for you here."
   ]
  },
  {
   "cell_type": "code",
   "execution_count": 63,
   "metadata": {},
   "outputs": [
    {
     "data": {
      "text/plain": [
       "<re.Match object; span=(235, 274), match='<title>Archer-Daniels-Midland Company ('>"
      ]
     },
     "execution_count": 63,
     "metadata": {},
     "output_type": "execute_result"
    }
   ],
   "source": [
    "def get_name(ticker):\n",
    "    import requests, re\n",
    "    \n",
    "    url = f'https://finance.yahoo.com/quote/{ticker}/profile'\n",
    "    \n",
    "    # do the download\n",
    "    req = requests.get(url)\n",
    "    html = req.text\n",
    "    html = html.replace('&#x27;',\"'\")\n",
    "    \n",
    "    try:\n",
    "        # use a regular expression to find the name\n",
    "        name = re.search(r'<title>(.+?) \\(', html)\n",
    "        return name\n",
    "    except:\n",
    "        # if the regular expression fails, do nothing\n",
    "        pass"
   ]
  },
  {
   "cell_type": "markdown",
   "metadata": {},
   "source": [
    "Test your function using these tickers by looping over the ticker symbols `ADM`, `AMZN`, `MMM`, `M`, and `WMT` and calling it for each one. The output should look like this:\n",
    "\n",
    "<img src=\"https://kelley.iu.edu/nstoffma/da/hw2_q1.png\">"
   ]
  },
  {
   "cell_type": "code",
   "execution_count": 65,
   "metadata": {},
   "outputs": [
    {
     "name": "stdout",
     "output_type": "stream",
     "text": [
      "ADM Archer-Daniels-Midland Company\n",
      "AMZN Amazon.com, Inc.\n",
      "MMM 3M Company\n",
      "M Macy's Inc\n",
      "WMT Walmart Inc.\n"
     ]
    }
   ],
   "source": [
    "tickers = ['ADM', 'AMZN', 'MMM', 'M','WMT']\n",
    "for ticker in tickers:\n",
    "    print(ticker, get_name(ticker).group(1))"
   ]
  },
  {
   "cell_type": "markdown",
   "metadata": {},
   "source": [
    "## Question 2\n",
    "Write a function that uses the same web page to find the address of the company's headquarters.\n",
    "\n",
    "For example, your function should work as follows:\n",
    "\n",
    "    In  []: get_address('TSLA')\n",
    "    Out []: '3500 Deer Creek Road, Palo Alto, CA, 94304'\n",
    "    \n",
    "Be sure to test your function with some other stock tickers.\n",
    "\n",
    "Hint: You'll probably want to capture different parts of the address (street address, city, state, zip) separately and then join them together into a string before returning a value. "
   ]
  },
  {
   "cell_type": "code",
   "execution_count": 8,
   "metadata": {},
   "outputs": [
    {
     "data": {
      "text/plain": [
       "'3500 Deer Creek RoadPalo Alto, CA 94304'"
      ]
     },
     "execution_count": 8,
     "metadata": {},
     "output_type": "execute_result"
    }
   ],
   "source": [
    "def get_address(ticker):\n",
    "    import requests, re\n",
    "    \n",
    "    url='https://finance.yahoo.com/quote/{}/profile'.format(str(ticker))\n",
    "    \n",
    "    # do the download\n",
    "    req = requests.get(url)\n",
    "    html = req.text\n",
    "    try:\n",
    "        # use a regular expression to find the name\n",
    "        address = re.search('(?<=<!-- react-text: 9 -->).+?(?=<br data-reactid=\"12\"/>)',html).group()\n",
    "        new = address.replace('<!-- /react-text -->','')\n",
    "        new2 = new.replace('<br data-reactid=\"10\"/><!-- react-text: 11 -->','')\n",
    "        return new2\n",
    "    except:\n",
    "        # if the regular expression fails, do nothing\n",
    "        pass\n",
    "\n",
    "get_address('TSLA')"
   ]
  },
  {
   "cell_type": "markdown",
   "metadata": {},
   "source": [
    "## Question 3\n",
    "\n",
    "Now I want you to write a *geolocating* function that takes a ticker symbol and returns the latitude and longitude of the firm's headquarters. To do this, we will use Mapquest's API (<b>A</b>pplication <b>P</b>rogramming <b>I</b>nterface), which is a web-based system for providing raw data rather than HTML pages.\n",
    "\n",
    "Before accessing the API you need to create an account which generates an API Key. The account is free and allows you to make a limited number of queries. To sign up, go [here](https://developer.mapquest.com/user/register) and choose Sign Up. You are assigned a key when you register. It will look something like this: \n",
    "\n",
    "<pre>zAWt8Aye5YvhXupZMzctaAfkSkEnacCn</pre>\n",
    "\n",
    "Once you have created your key, you can query the API using a URL like this:\n",
    "\n",
    "http://www.mapquestapi.com/geocoding/v1/address?key=API_KEY&location=1309+E+10th+Street%2C+Bloomington%2C+IN%2C+47401\n",
    "\n",
    "(This link will *not* work until you replace `API_KEY` with your personal key.)\n",
    "\n",
    "Notice that URLs use special formatting to deal with spaces and other punctuation.\n",
    "An easy way to request a web site with parameters like this is as follows:"
   ]
  },
  {
   "cell_type": "code",
   "execution_count": 66,
   "metadata": {},
   "outputs": [
    {
     "data": {
      "text/plain": [
       "'{\"info\":{\"statuscode\":0,\"copyright\":{\"text\":\"\\\\u00A9 2020 MapQuest, Inc.\",\"imageUrl\":\"http://api.mqcdn.com/res/mqlogo.gif\",\"imageAltText\":\"\\\\u00A9 2020 MapQuest, Inc.\"},\"messages\":[]},\"options\":{\"maxResults\":-1,\"thumbMaps\":true,\"ignoreLatLngInput\":false},\"results\":[{\"providedLocation\":{\"location\":\"1309 E 10th Street, Bloomington, IN, 47401\"},\"locations\":[{\"street\":\"1309 E 10th St\",\"adminArea6\":\"\",\"adminArea6Type\":\"Neighborhood\",\"adminArea5\":\"Bloomington\",\"adminArea5Type\":\"City\",\"adminArea4\":\"Monroe\",\"adminArea4Type\":\"County\",\"adminArea3\":\"IN\",\"adminArea3Type\":\"State\",\"adminArea1\":\"US\",\"adminArea1Type\":\"Country\",\"postalCode\":\"47405-1701\",\"geocodeQualityCode\":\"L1AAB\",\"geocodeQuality\":\"ADDRESS\",\"dragPoint\":false,\"sideOfStreet\":\"L\",\"linkId\":\"rnr3440297|i21503866\",\"unknownInput\":\"\",\"type\":\"s\",\"latLng\":{\"lat\":39.171598,\"lng\":-86.517943},\"displayLatLng\":{\"lat\":39.171798,\"lng\":-86.517941},\"mapUrl\":\"http://www.mapquestapi.com/staticmap/v5/map?key=HLnISS3aFXpTqR8YBGAhU7e10KcMXNrA&type=map&size=225,160&locations=39.171598,-86.517943|marker-sm-50318A-1&scalebar=true&zoom=15&rand=1508544318\"}]}]}'"
      ]
     },
     "execution_count": 66,
     "metadata": {},
     "output_type": "execute_result"
    }
   ],
   "source": [
    "API_KEY = 'HLnISS3aFXpTqR8YBGAhU7e10KcMXNrA'\n",
    "\n",
    "import requests\n",
    "\n",
    "url = 'http://www.mapquestapi.com/geocoding/v1/address'\n",
    "params = {'key': API_KEY, 'location': '1309 E 10th Street, Bloomington, IN, 47401'}\n",
    "\n",
    "requests.get(url, params=params).text"
   ]
  },
  {
   "cell_type": "markdown",
   "metadata": {},
   "source": [
    "The response from the server is formatted using JSON. But you can simply treat it like any other string and use a regular expression to find the pattern you're looking for.\n",
    "\n",
    "As an example, your code should return a tuple *exactly* like this:\n",
    "\n",
    "    In  []: geolocate('TSLA')\n",
    "    Out []: (37.394738, -122.149112, '3500 Deer Creek Road, Palo Alto, CA, 94304')\n",
    "    \n",
    "That is, it returns a tuple with the latitude, longitude, and address.\n",
    "\n",
    "Use the template below to write the function. The function you write for this question should start by calling the function you wrote in Q2 to get the address. You can then use this with the API to get the location"
   ]
  },
  {
   "cell_type": "code",
   "execution_count": 67,
   "metadata": {},
   "outputs": [
    {
     "data": {
      "text/plain": [
       "(37.394738, -122.149112, '3500 Deer Creek RoadPalo Alto, CA 94304')"
      ]
     },
     "execution_count": 67,
     "metadata": {},
     "output_type": "execute_result"
    }
   ],
   "source": [
    "def geolocate(ticker):\n",
    "    import requests, re\n",
    "    \n",
    "    # get address for ticker\n",
    "    get_address(ticker)\n",
    "    # query the mapquest API for the address\n",
    "    url = 'http://www.mapquestapi.com/geocoding/v1/address'\n",
    "    params = {'key': API_KEY, 'location': get_address(ticker)}\n",
    "    coordinates = requests.get(url, params=params).text\n",
    "  \n",
    "\n",
    "    try:\n",
    "        #In  []: geolocate('TSLA')\n",
    "        #Out []: (37.394738, -122.149112, '3500 Deer Creek Road, Palo Alto, CA, 94304')\n",
    "        latLng = re.search(r'\"latLng\":{\"lat\":([-?0-9]+.[0-9]+),\"lng\":([-?0-9]+.[0-9]+)}', coordinates)\n",
    "        lat = float(latLng.group(1))\n",
    "        lng = float(latLng.group(2))\n",
    "        \n",
    "    # return the desired tuple\n",
    "        return (lat, lng, get_address(ticker))\n",
    "\n",
    "    except:\n",
    "        print('Unable to find coordinates')\n",
    "\n",
    "#for example, the code that returns the latitude, longitude, and the address of Tesla's HQ is as follows:\n",
    "geolocate('TSLA')"
   ]
  },
  {
   "cell_type": "markdown",
   "metadata": {},
   "source": [
    "## Question 4\n",
    "\n",
    "Now let's say we want to calculate the distance between two corporate headquarters.\n",
    "\n",
    "Given two pairs of latitude and longitude, $(\\varphi_1, \\lambda_1)$ and $(\\varphi_2, \\lambda_2)$, we can calculate the distance between them using the [Haversine formula](https://en.wikipedia.org/wiki/Haversine_formula#The_haversine_formula):\n",
    "\n",
    "$${\\displaystyle d=2r\\arcsin \\left({\\sqrt {\\operatorname {hav} (\\varphi _{2}-\\varphi _{1})+\\cos(\\varphi _{1})\\cos(\\varphi _{2})\\operatorname {hav} (\\lambda _{2}-\\lambda _{1})}}\\right)}$$\n",
    "\n",
    "where $d$ is the distance, $\\operatorname{hav}$ is the Haversine function, $$\\operatorname {hav} (\\theta )=\\left[\\sin\\left({\\frac {\\theta }{2}}\\right)\\right]^2,$$ and $r$ is the radius of the earth ([3958.7613 miles](https://en.wikipedia.org/wiki/Earth_radius#Mean_radius)). Note that this formula requires that the latitude and longitude are given in *radians*, not the degrees that Mapquest gives.\n",
    "\n",
    "Use the template below to write a function that takes two ticker symbols and returns the distance between the headquarters of the two firms. \n",
    "\n",
    "Note that the `math` module includes the `asin` function for $\\arcsin$ as well as a `radians` function."
   ]
  },
  {
   "cell_type": "code",
   "execution_count": 68,
   "metadata": {},
   "outputs": [],
   "source": [
    "def haversine(theta):\n",
    "    '''Haversine function'''\n",
    "    from math import sin\n",
    "    return sin(theta/2)**2"
   ]
  },
  {
   "cell_type": "code",
   "execution_count": null,
   "metadata": {},
   "outputs": [],
   "source": [
    "def firm_dist(ticker1, ticker2):\n",
    "    '''Returns the distance in miles between two firm HQs'''\n",
    "    \n",
    "    # import whatever is needed\n",
    "    from math import radians, asin, cos, sqrt\n",
    "    # get lat/lng of two tickers\n",
    "    lat1 = geolocate(ticker1)[0]\n",
    "    lng1 = geolocate(ticker1)[1]\n",
    "    lat2 = geolocate(ticker2)[0]\n",
    "    lng2 = geolocate(ticker2)[1]\n",
    "    \n",
    "    # convert decimal degrees to radians \n",
    "    lat1, lng1, lat2, lng2 = map(radians, [lat1, lng1, lat2, lng2])\n",
    " \n",
    "    # change degrees to radians\n",
    "    diff_lat = lat2 - lat1 \n",
    "    diff_lng = lng2 - lng1 \n",
    "    \n",
    "    #equation for the inside of sqrt\n",
    "    i = haversine(diff_lat)+(cos(lat1)*cos(lat2)*haversine(diff_lng))\n",
    "    r = 3958.7613\n",
    "    d = 2 * asin(sqrt(i))*r\n",
    "    \n",
    "    return d\n",
    "    # calculate distance using the Haversine formula and return it\n",
    "\n",
    "#for example, the code for calculating the distance between Tesla HQ and WalMart HQ can be as follows:\n",
    "firm_dist('TSLA', 'WMT')"
   ]
  },
  {
   "cell_type": "code",
   "execution_count": null,
   "metadata": {},
   "outputs": [],
   "source": []
  }
 ],
 "metadata": {
  "kernelspec": {
   "display_name": "Python 3",
   "language": "python",
   "name": "python3"
  },
  "language_info": {
   "codemirror_mode": {
    "name": "ipython",
    "version": 3
   },
   "file_extension": ".py",
   "mimetype": "text/x-python",
   "name": "python",
   "nbconvert_exporter": "python",
   "pygments_lexer": "ipython3",
   "version": "3.7.4"
  },
  "toc": {
   "base_numbering": 1,
   "nav_menu": {},
   "number_sections": false,
   "sideBar": true,
   "skip_h1_title": false,
   "title_cell": "Table of Contents",
   "title_sidebar": "Contents",
   "toc_cell": false,
   "toc_position": {},
   "toc_section_display": true,
   "toc_window_display": false
  }
 },
 "nbformat": 4,
 "nbformat_minor": 2
}
